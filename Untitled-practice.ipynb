{
 "cells": [
  {
   "cell_type": "code",
   "execution_count": 3,
   "id": "57b47cd3",
   "metadata": {},
   "outputs": [
    {
     "name": "stdout",
     "output_type": "stream",
     "text": [
      "python is hard\n"
     ]
    }
   ],
   "source": [
    "name=\"python is hard\"\n",
    "print(name)"
   ]
  },
  {
   "cell_type": "code",
   "execution_count": 4,
   "id": "d3fa414f",
   "metadata": {},
   "outputs": [
    {
     "name": "stdout",
     "output_type": "stream",
     "text": [
      "what is your age:34\n",
      "34\n"
     ]
    }
   ],
   "source": [
    "age=int(input(\"what is your age:\"))\n",
    "print (age)"
   ]
  },
  {
   "cell_type": "code",
   "execution_count": 5,
   "id": "dc323d1f",
   "metadata": {},
   "outputs": [
    {
     "name": "stdout",
     "output_type": "stream",
     "text": [
      "what is your age:56\n",
      "56.0\n"
     ]
    }
   ],
   "source": [
    "age=float(input(\"what is your age:\"))\n",
    "print(age)"
   ]
  },
  {
   "cell_type": "markdown",
   "id": "5751b3f4",
   "metadata": {},
   "source": [
    "## iterable objects"
   ]
  },
  {
   "cell_type": "markdown",
   "id": "48cd84db",
   "metadata": {},
   "source": [
    "iterable objects are used to loop over element one after the order. we have three types of iterable objects\n",
    "turple\n",
    "list\n",
    "dictionary\n",
    "range\n"
   ]
  },
  {
   "cell_type": "code",
   "execution_count": null,
   "id": "36159294",
   "metadata": {},
   "outputs": [],
   "source": [
    "turple is unchangeable\n",
    "turple uses bracket ()\n",
    "turple uses index location to access element"
   ]
  },
  {
   "cell_type": "markdown",
   "id": "cd754599",
   "metadata": {},
   "source": []
  },
  {
   "cell_type": "code",
   "execution_count": 12,
   "id": "b3b6c164",
   "metadata": {},
   "outputs": [
    {
     "name": "stdout",
     "output_type": "stream",
     "text": [
      "(10, 20, 30, 40, 50, 80, 100, 'grace')\n",
      "<class 'tuple'>\n",
      "8\n"
     ]
    }
   ],
   "source": [
    "numbers=(10,20,30,40,50,80,100,\"grace\")\n",
    "print(numbers)\n",
    "print(type(numbers))\n",
    "print(len(numbers))"
   ]
  },
  {
   "cell_type": "code",
   "execution_count": 13,
   "id": "89844c54",
   "metadata": {},
   "outputs": [
    {
     "ename": "NameError",
     "evalue": "name 'number' is not defined",
     "output_type": "error",
     "traceback": [
      "\u001b[1;31m---------------------------------------------------------------------------\u001b[0m",
      "\u001b[1;31mNameError\u001b[0m                                 Traceback (most recent call last)",
      "Cell \u001b[1;32mIn[13], line 2\u001b[0m\n\u001b[0;32m      1\u001b[0m \u001b[38;5;66;03m## forward index\u001b[39;00m\n\u001b[1;32m----> 2\u001b[0m \u001b[38;5;28mprint\u001b[39m(number[\u001b[38;5;241m5\u001b[39m])\n",
      "\u001b[1;31mNameError\u001b[0m: name 'number' is not defined"
     ]
    }
   ],
   "source": [
    "## forward index\n"
   ]
  },
  {
   "cell_type": "code",
   "execution_count": 14,
   "id": "1fab75bc",
   "metadata": {},
   "outputs": [
    {
     "name": "stdout",
     "output_type": "stream",
     "text": [
      "80\n"
     ]
    }
   ],
   "source": [
    "print(numbers[5])"
   ]
  },
  {
   "cell_type": "code",
   "execution_count": 15,
   "id": "05cfd0ee",
   "metadata": {},
   "outputs": [
    {
     "name": "stdout",
     "output_type": "stream",
     "text": [
      "80\n"
     ]
    }
   ],
   "source": [
    "## forward index\n",
    "print(numbers[5])"
   ]
  },
  {
   "cell_type": "code",
   "execution_count": 16,
   "id": "7cad68cf",
   "metadata": {},
   "outputs": [
    {
     "name": "stdout",
     "output_type": "stream",
     "text": [
      "30\n"
     ]
    }
   ],
   "source": [
    "## backward index\n",
    "print(numbers[-6])"
   ]
  },
  {
   "cell_type": "code",
   "execution_count": 17,
   "id": "81a9f30b",
   "metadata": {},
   "outputs": [
    {
     "name": "stdout",
     "output_type": "stream",
     "text": [
      "50\n"
     ]
    }
   ],
   "source": [
    "## backward index\n",
    "print(numbers[-4])\n"
   ]
  },
  {
   "cell_type": "code",
   "execution_count": 5,
   "id": "3f99361b",
   "metadata": {},
   "outputs": [
    {
     "ename": "NameError",
     "evalue": "name 'numbers' is not defined",
     "output_type": "error",
     "traceback": [
      "\u001b[1;31m---------------------------------------------------------------------------\u001b[0m",
      "\u001b[1;31mNameError\u001b[0m                                 Traceback (most recent call last)",
      "Cell \u001b[1;32mIn[5], line 1\u001b[0m\n\u001b[1;32m----> 1\u001b[0m \u001b[38;5;28mprint\u001b[39m(numbers[\u001b[38;5;241m-\u001b[39m\u001b[38;5;241m5\u001b[39m])\n",
      "\u001b[1;31mNameError\u001b[0m: name 'numbers' is not defined"
     ]
    }
   ],
   "source": [
    "print(numbers[-5])"
   ]
  },
  {
   "cell_type": "code",
   "execution_count": 18,
   "id": "a8dc72f4",
   "metadata": {},
   "outputs": [
    {
     "name": "stdout",
     "output_type": "stream",
     "text": [
      "(20, 30, 40, 30, 100, 80, 'favour')\n"
     ]
    }
   ],
   "source": [
    "## range index\n",
    "print(numbers[1:8])##forward +1 to find an index"
   ]
  },
  {
   "cell_type": "code",
   "execution_count": 18,
   "id": "a43b0418",
   "metadata": {},
   "outputs": [
    {
     "name": "stdout",
     "output_type": "stream",
     "text": [
      "(20, 30, 40, 50, 80, 100, 'grace')\n"
     ]
    }
   ],
   "source": [
    "## range index \n",
    "print(numbers[1:8])"
   ]
  },
  {
   "cell_type": "code",
   "execution_count": 19,
   "id": "cd162cd8",
   "metadata": {},
   "outputs": [
    {
     "name": "stdout",
     "output_type": "stream",
     "text": [
      "(20, 30, 40, 30, 100, 80)\n"
     ]
    }
   ],
   "source": [
    "## forward and backward range\n",
    "print(numbers[1:-1]) # backward use -1 for index location"
   ]
  },
  {
   "cell_type": "code",
   "execution_count": 19,
   "id": "776c15bf",
   "metadata": {},
   "outputs": [
    {
     "name": "stdout",
     "output_type": "stream",
     "text": [
      "(20, 30, 40, 50, 80, 100)\n"
     ]
    }
   ],
   "source": [
    "## forward and backward range\n",
    "print(numbers[1:-1])"
   ]
  },
  {
   "cell_type": "code",
   "execution_count": 21,
   "id": "23be0302",
   "metadata": {},
   "outputs": [
    {
     "name": "stdout",
     "output_type": "stream",
     "text": [
      "(20, 30, 40, 30, 100, 80, 'favour')\n"
     ]
    }
   ],
   "source": [
    "## forward range\n",
    "print(numbers[1::1])"
   ]
  },
  {
   "cell_type": "code",
   "execution_count": 21,
   "id": "fe6ee4d9",
   "metadata": {},
   "outputs": [
    {
     "name": "stdout",
     "output_type": "stream",
     "text": [
      "(20, 30, 40, 50, 80, 100, 'grace')\n"
     ]
    }
   ],
   "source": [
    "## forward range\n",
    "print(numbers[1::1])"
   ]
  },
  {
   "cell_type": "code",
   "execution_count": 22,
   "id": "4dcc5aaa",
   "metadata": {},
   "outputs": [
    {
     "name": "stdout",
     "output_type": "stream",
     "text": [
      "(10, 20, 30, 40, 30, 100, 80, 'favour')\n"
     ]
    }
   ],
   "source": [
    "## forward range\n",
    "print(numbers[0::1])"
   ]
  },
  {
   "cell_type": "code",
   "execution_count": 22,
   "id": "a0fc2b63",
   "metadata": {},
   "outputs": [
    {
     "name": "stdout",
     "output_type": "stream",
     "text": [
      "(10, 20, 30, 40, 50, 80, 100, 'grace')\n"
     ]
    }
   ],
   "source": [
    "## forward range\n",
    "print(numbers[0::1])"
   ]
  },
  {
   "cell_type": "code",
   "execution_count": 26,
   "id": "b99f5494",
   "metadata": {},
   "outputs": [
    {
     "name": "stdout",
     "output_type": "stream",
     "text": [
      "('favour', 80, 100, 30, 40, 30, 20, 10)\n"
     ]
    }
   ],
   "source": [
    "## reverse\n",
    "print(numbers[::-1])"
   ]
  },
  {
   "cell_type": "code",
   "execution_count": null,
   "id": "ef98001a",
   "metadata": {},
   "outputs": [],
   "source": [
    "##LIST\n",
    "## list changeble\n",
    "## list use the square bracket for identification[]\n",
    "## list use the index location to also access each element.\n"
   ]
  },
  {
   "cell_type": "code",
   "execution_count": 27,
   "id": "69d81786",
   "metadata": {},
   "outputs": [
    {
     "name": "stdout",
     "output_type": "stream",
     "text": [
      "['strawberry', 'orange', 'pineapple', 'cherry', 'wayermelon', 45, 95.0]\n",
      "<class 'list'>\n",
      "7\n"
     ]
    }
   ],
   "source": [
    "fruits=[\"strawberry\",\"orange\",\"pineapple\",\"cherry\",\"wayermelon\",45,95.0]\n",
    "print(fruits)\n",
    "print(type(fruits))\n",
    "print(len(fruits))"
   ]
  },
  {
   "cell_type": "code",
   "execution_count": 28,
   "id": "a2d7bff3",
   "metadata": {},
   "outputs": [
    {
     "name": "stdout",
     "output_type": "stream",
     "text": [
      "cherry\n"
     ]
    }
   ],
   "source": [
    "print(fruits[3])## using index in list."
   ]
  },
  {
   "cell_type": "code",
   "execution_count": 36,
   "id": "88ee345e",
   "metadata": {},
   "outputs": [
    {
     "ename": "NameError",
     "evalue": "name 'Print' is not defined",
     "output_type": "error",
     "traceback": [
      "\u001b[1;31m---------------------------------------------------------------------------\u001b[0m",
      "\u001b[1;31mNameError\u001b[0m                                 Traceback (most recent call last)",
      "Cell \u001b[1;32mIn[36], line 2\u001b[0m\n\u001b[0;32m      1\u001b[0m fruits\u001b[38;5;241m.\u001b[39mappend(\u001b[38;5;124m\"\u001b[39m\u001b[38;5;124mpawpaw\u001b[39m\u001b[38;5;124m\"\u001b[39m) \u001b[38;5;66;03m## append is used to add an element to A list\u001b[39;00m\n\u001b[1;32m----> 2\u001b[0m Print(fruits)\n",
      "\u001b[1;31mNameError\u001b[0m: name 'Print' is not defined"
     ]
    }
   ],
   "source": [
    "fruits.append(\"pawpaw\") ## append is used to add an element to A list\n",
    "Print(fruits)"
   ]
  },
  {
   "cell_type": "code",
   "execution_count": 37,
   "id": "248daf59",
   "metadata": {},
   "outputs": [
    {
     "name": "stdout",
     "output_type": "stream",
     "text": [
      "['strawberry', 'orange', 'pineapple', 'cherry', 'wayermelon', 45, 95.0, 'pawpaw', 'pawpaw', 'pawpaw']\n"
     ]
    }
   ],
   "source": [
    "print(fruits)\n",
    "\n"
   ]
  },
  {
   "cell_type": "code",
   "execution_count": 38,
   "id": "4f8673a9",
   "metadata": {},
   "outputs": [
    {
     "name": "stdout",
     "output_type": "stream",
     "text": [
      "['strawberry', 'orange', 'pineapple', 'cherry', 'wayermelon', 45, 95.0, 'pawpaw', 'pawpaw']\n"
     ]
    }
   ],
   "source": [
    "fruits.remove(\"pawpaw\")\n",
    "print(fruits)"
   ]
  },
  {
   "cell_type": "code",
   "execution_count": 39,
   "id": "25a771f9",
   "metadata": {},
   "outputs": [
    {
     "name": "stdout",
     "output_type": "stream",
     "text": [
      "['strawberry', 'orange', 'pineapple', 'cherry', 'wayermelon', 45, 95.0, 'pawpaw', 'pawpaw', 'mango', 'grape', 'apple', 'guava', 'bannana']\n"
     ]
    }
   ],
   "source": [
    "fruits.extend([\"mango\",\"grape\",\"apple\",\"guava\",\"bannana\"])\n",
    "print(fruits)"
   ]
  },
  {
   "cell_type": "code",
   "execution_count": 40,
   "id": "7b489234",
   "metadata": {},
   "outputs": [
    {
     "name": "stdout",
     "output_type": "stream",
     "text": [
      "['strawberry', 'orange', 'pineapple', 'cherry', 'wayermelon', 'pawpaw', 'pawpaw', 'mango', 'grape', 'apple', 'guava', 'bannana']\n"
     ]
    }
   ],
   "source": [
    "fruits.remove(45)\n",
    "fruits.remove(95.0)\n",
    "print(fruits)"
   ]
  },
  {
   "cell_type": "code",
   "execution_count": 41,
   "id": "660aa4bd",
   "metadata": {},
   "outputs": [
    {
     "name": "stdout",
     "output_type": "stream",
     "text": [
      "['apple', 'bannana', 'cherry', 'grape', 'guava', 'mango', 'orange', 'pawpaw', 'pawpaw', 'pineapple', 'strawberry', 'wayermelon']\n"
     ]
    }
   ],
   "source": [
    "fruits.sort()\n",
    "print(fruits)"
   ]
  },
  {
   "cell_type": "code",
   "execution_count": 42,
   "id": "f6e3d45a",
   "metadata": {},
   "outputs": [
    {
     "name": "stdout",
     "output_type": "stream",
     "text": [
      "['apple', 'bannana', 'cherry', 'grape', 'guava', 'mango', 'orange', 'pawpaw', 'pawpaw', 'pineapple', 'strawberry', 'wayermelon']\n"
     ]
    }
   ],
   "source": [
    "fruits2=fruits.copy()\n",
    "print(fruits2)"
   ]
  },
  {
   "cell_type": "code",
   "execution_count": 43,
   "id": "338385fe",
   "metadata": {},
   "outputs": [
    {
     "name": "stdout",
     "output_type": "stream",
     "text": [
      "['apple', 'bannana', 'cherry', 'grape', 'guava', 'mango', 'orange', 'pawpaw', 'pawpaw', 'pineapple', 'strawberry', 'wayermelon']\n"
     ]
    }
   ],
   "source": [
    "print(fruits)"
   ]
  },
  {
   "cell_type": "markdown",
   "id": "f0a22e4a",
   "metadata": {},
   "source": [
    "# dictionary"
   ]
  },
  {
   "cell_type": "code",
   "execution_count": null,
   "id": "328f24f8",
   "metadata": {},
   "outputs": [],
   "source": [
    "## Dictionary is changeable\n",
    "## dictionary use the curly bracket for identification{}\n",
    "## dictionary use the key to locate the element.\n"
   ]
  },
  {
   "cell_type": "code",
   "execution_count": 48,
   "id": "172ca191",
   "metadata": {},
   "outputs": [
    {
     "name": "stdout",
     "output_type": "stream",
     "text": [
      "<class 'dict'>\n",
      "{'name': 'Emmanuel', 'age': 45, 'marital_status': 'married', 'date': '04-11-2023'}\n"
     ]
    }
   ],
   "source": [
    "human={  \n",
    "    \"name\":\"Emmanuel\",\n",
    "    \"age\": 45,\n",
    "    \"marital_status\":\"married\",\n",
    "    \"date\":\"04-11-2023\"\n",
    " }\n",
    "\n",
    "print(type(human))\n",
    "print(human)"
   ]
  },
  {
   "cell_type": "code",
   "execution_count": 45,
   "id": "ec2beab3",
   "metadata": {},
   "outputs": [
    {
     "name": "stdout",
     "output_type": "stream",
     "text": [
      "Emmanuel\n"
     ]
    }
   ],
   "source": [
    "print(human[\"name\"])"
   ]
  },
  {
   "cell_type": "code",
   "execution_count": 46,
   "id": "4e73090a",
   "metadata": {},
   "outputs": [
    {
     "name": "stdout",
     "output_type": "stream",
     "text": [
      "dict_keys(['name', 'age', 'marital_status', 'date'])\n",
      "dict_values(['Emmanuel', 45, 'married', '04-11-2023'])\n"
     ]
    }
   ],
   "source": [
    "print(human.keys())\n",
    "print(human.values())"
   ]
  },
  {
   "cell_type": "code",
   "execution_count": null,
   "id": "6111df8e",
   "metadata": {},
   "outputs": [],
   "source": []
  }
 ],
 "metadata": {
  "kernelspec": {
   "display_name": "Python 3 (ipykernel)",
   "language": "python",
   "name": "python3"
  },
  "language_info": {
   "codemirror_mode": {
    "name": "ipython",
    "version": 3
   },
   "file_extension": ".py",
   "mimetype": "text/x-python",
   "name": "python",
   "nbconvert_exporter": "python",
   "pygments_lexer": "ipython3",
   "version": "3.11.5"
  }
 },
 "nbformat": 4,
 "nbformat_minor": 5
}
